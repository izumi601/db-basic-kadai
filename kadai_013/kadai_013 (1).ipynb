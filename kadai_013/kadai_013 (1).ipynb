{
  "nbformat": 4,
  "nbformat_minor": 0,
  "metadata": {
    "colab": {
      "provenance": []
    },
    "kernelspec": {
      "name": "python3",
      "display_name": "Python 3"
    },
    "language_info": {
      "name": "python"
    }
  },
  "cells": [
    {
      "cell_type": "code",
      "execution_count": 23,
      "metadata": {
        "colab": {
          "base_uri": "https://localhost:8080/"
        },
        "id": "C5TuXIP73dqu",
        "outputId": "da347a6c-c940-4ded-bf0f-9886b3e2c14e"
      },
      "outputs": [
        {
          "output_type": "stream",
          "name": "stdout",
          "text": [
            "121.00000000000001\n"
          ]
        }
      ],
      "source": [
        "def add_two_arguments(price, tax_rate):\n",
        "  total = price * (1 + tax_rate /100)\n",
        "  return total\n",
        "\n",
        "result = add_two_arguments(110, 10)\n",
        "\n",
        "\n",
        "print(result)"
      ]
    }
  ]
}