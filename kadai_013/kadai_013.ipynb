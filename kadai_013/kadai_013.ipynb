{
  "nbformat": 4,
  "nbformat_minor": 0,
  "metadata": {
    "colab": {
      "provenance": []
    },
    "kernelspec": {
      "name": "python3",
      "display_name": "Python 3"
    },
    "language_info": {
      "name": "python"
    }
  },
  "cells": [
    {
      "cell_type": "code",
      "execution_count": 20,
      "metadata": {
        "colab": {
          "base_uri": "https://localhost:8080/"
        },
        "id": "C5TuXIP73dqu",
        "outputId": "4c8a5896-174b-4470-f8b0-19eba6342678"
      },
      "outputs": [
        {
          "output_type": "stream",
          "name": "stdout",
          "text": [
            "110.00000000000001円\n"
          ]
        }
      ],
      "source": [
        "def add_two_arguments(price, tax_rate):\n",
        "  total = price * (1 + tax_rate)\n",
        "  print(f\"{total}円\")\n",
        "\n",
        "\n",
        "add_two_arguments(100, 0.1)"
      ]
    }
  ]
}