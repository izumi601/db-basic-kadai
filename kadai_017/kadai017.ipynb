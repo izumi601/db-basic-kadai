{
  "nbformat": 4,
  "nbformat_minor": 0,
  "metadata": {
    "colab": {
      "provenance": []
    },
    "kernelspec": {
      "name": "python3",
      "display_name": "Python 3"
    },
    "language_info": {
      "name": "python"
    }
  },
  "cells": [
    {
      "cell_type": "code",
      "execution_count": 10,
      "metadata": {
        "colab": {
          "base_uri": "https://localhost:8080/"
        },
        "id": "OiAhjgei-lnC",
        "outputId": "9d2350b7-3299-4734-a394-8762476f24f2"
      },
      "outputs": [
        {
          "output_type": "stream",
          "name": "stdout",
          "text": [
            "小籔千豊(30歳)は大人です。\n",
            "島田珠代(19歳)は大人ではありません。\n",
            "すっちー(18歳)は大人ではありません。\n",
            "酒井愛(40歳)は大人です。\n"
          ]
        }
      ],
      "source": [
        "class Human:\n",
        "  def __init__(self, name ,age):\n",
        "    self.name = name\n",
        "    self.age = age\n",
        "\n",
        "#メソッドを定義\n",
        "  def check_adult(self):\n",
        "    if self.age >= 20:\n",
        "      print(f\"{self.name}({self.age}歳)は大人です。\")\n",
        "    else:\n",
        "      print(f\"{self.name}({self.age}歳)は大人ではありません。\")\n",
        "\n",
        "#インスタンス\n",
        "human_list = [Human (\"小籔千豊\", 30), Human(\"島田珠代\", 19), Human(\"すっちー\", 18), Human(\"酒井愛\", 40)]\n",
        "\n",
        "for human in human_list:\n",
        "    human.check_adult()\n",
        "\n",
        "\n",
        "\n",
        ""
      ]
    }
  ]
}